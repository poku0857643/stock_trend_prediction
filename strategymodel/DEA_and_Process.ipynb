{
 "cells": [
  {
   "metadata": {},
   "cell_type": "markdown",
   "source": "## use local files and online marketing news to build a situational awareness model",
   "id": "1811d837739f0165"
  },
  {
   "metadata": {
    "ExecuteTime": {
     "end_time": "2025-06-06T08:42:41.160043Z",
     "start_time": "2025-06-06T08:42:41.153755Z"
    }
   },
   "cell_type": "code",
   "source": [
    "# Import libraries\n",
    "# data_loader.py\n",
    "import os\n",
    "from pathlib import Path\n",
    "from embedding import *\n",
    "\n",
    "class DataLoader:\n",
    "    def __init__(self, base_folder:str):\n",
    "        self.base_folder = Path(base_folder)\n",
    "\n",
    "    def list_files(self, subfolder: str, extensions: list):\n",
    "        folder_path = self.base_folder / subfolder\n",
    "        return [\n",
    "            file for file in folder_path.glob(\"**/*\") if file.is_file() and file.suffix.lower() in extensions\n",
    "        ]\n",
    "    def read_all_files(self, subfolder, extensions):\n",
    "        # from embedding.text_extractor import TextExtractor\n",
    "\n",
    "        extractor = TextExtractor()\n",
    "        contents = []\n",
    "\n",
    "        for file in self.list_files(subfolder, extensions):\n",
    "            text = extractor.extract(file)\n",
    "            if text:\n",
    "                contents.append((str(file), text))\n",
    "\n",
    "        return contents\n",
    "\n",
    "\n",
    "\n"
   ],
   "id": "19b639c51936fa6e",
   "outputs": [],
   "execution_count": 17
  },
  {
   "cell_type": "code",
   "id": "initial_id",
   "metadata": {
    "collapsed": true,
    "ExecuteTime": {
     "end_time": "2025-06-06T08:43:53.363973Z",
     "start_time": "2025-06-06T08:43:53.356226Z"
    }
   },
   "source": [
    "# text_extractor.py\n",
    "import textract\n",
    "import pandas as pd\n",
    "from pathlib import Path\n",
    "\n",
    "class TextExtractor:\n",
    "    def extract(self, file_path: Path):\n",
    "        try:\n",
    "            ext = file_path.suffix.lower()\n",
    "            if ext in ['.txt']:\n",
    "                return file_path.read_text(encoding='utf-8', errors='ignore')\n",
    "            elif ext in ['.docx', '.doc', '.pdf']:\n",
    "                return textract.process(str(file_path)).decode('utf-8')\n",
    "            elif ext in ['.csv', 'xlsx']:\n",
    "                df = pd.read_csv(file_path) if ext == '.csv' else pd.read_excel(file_path)\n",
    "                return df.to_string(index=False)\n",
    "        except Exception as e:\n",
    "            print(f\"Failed to extract {file_path}: {e}\")\n",
    "            return \"\""
   ],
   "outputs": [],
   "execution_count": 18
  },
  {
   "metadata": {
    "ExecuteTime": {
     "end_time": "2025-06-06T08:43:55.458334Z",
     "start_time": "2025-06-06T08:43:55.453397Z"
    }
   },
   "cell_type": "code",
   "source": [
    "# embedder.py\n",
    "from sentence_transformers import SentenceTransformer\n",
    "import numpy as np\n",
    "\n",
    "class Embedder:\n",
    "    def __init__(self, model_name: str=\"all-MiniLM-L6-v2\"):\n",
    "        self.model = SentenceTransformer(model_name)\n",
    "    def embed_text(self, texts: str):\n",
    "        return self.model.encode(texts, convert_to_numpy=True)   # convert to tensor or numpy array, which could have better performance?\n",
    "    def embed_from_files(self, data: list[tuple[str, str]]) -> dict:\n",
    "        texts = [text for _, text in data]\n",
    "        embeddings = self.embed_text(texts)\n",
    "        return {filename: emb for (filename, _), emb in zip(data, embeddings)}"
   ],
   "id": "969fdb32e01fb1eb",
   "outputs": [],
   "execution_count": 19
  },
  {
   "metadata": {
    "ExecuteTime": {
     "end_time": "2025-06-06T08:45:18.880945Z",
     "start_time": "2025-06-06T08:45:18.877191Z"
    }
   },
   "cell_type": "code",
   "source": "BASE_FOLDER = \"/Users/eshan/PycharmProjects/FastAPIProject2/test_data/\"",
   "id": "e4577245ba52c849",
   "outputs": [],
   "execution_count": 24
  },
  {
   "metadata": {
    "ExecuteTime": {
     "end_time": "2025-06-06T08:45:30.223940Z",
     "start_time": "2025-06-06T08:45:21.019919Z"
    }
   },
   "cell_type": "code",
   "source": [
    "\n",
    "# from embedding.data_loader import DataLoader\n",
    "# from embedding.embedder import Embedder\n",
    "\n",
    "\n",
    "# Load data\n",
    "loader = DataLoader(BASE_FOLDER)\n",
    "documents = loader.read_all_files(\"pdf_files\", [\".pdf\"])\n",
    "\n",
    "# Generate embeddings\n",
    "embedder = Embedder()\n",
    "embeddings = embedder.embed_from_files(documents)\n",
    "\n",
    "# Show results\n",
    "for filename, vector in embeddings.items():\n",
    "    print(f\"{filename} -> vector shape: {vector.shape}\")"
   ],
   "id": "235b4ebd5845d8c4",
   "outputs": [
    {
     "name": "stdout",
     "output_type": "stream",
     "text": [
      "/Users/eshan/PycharmProjects/FastAPIProject2/test_data/pdf_files/Trends_Artificial_Intelligence.pdf -> vector shape: (384,)\n",
      "/Users/eshan/PycharmProjects/FastAPIProject2/test_data/pdf_files/The Forrester Wave™_ Data Management For Analytics Platforms, Q2 2025 _ 001a000001AEj6nAAD _ 53381efb.pdf -> vector shape: (384,)\n"
     ]
    }
   ],
   "execution_count": 25
  },
  {
   "metadata": {},
   "cell_type": "markdown",
   "source": "# LLM Part I - Summarization",
   "id": "8d777dfb6db2931e"
  },
  {
   "metadata": {},
   "cell_type": "code",
   "outputs": [],
   "execution_count": null,
   "source": [
    "'''\n",
    "seperate the code into two parts, one for summarization and one for strategy modules, for\n",
    "1. Modularity: for better upgrade/replace one without affecting the other\n",
    "2. Reusability: The summarizer can be reuse for other tasks, such as report generation, logs, etc.\n",
    "3. Focus: Each module can specialize (summarizer: compression; strategist: reasoning)\n",
    "4. Pipelining: Easy to compose into an end-to-end pipeline:\n",
    "   - Summarization -> Embedding -> Strategy Module\n",
    "'''"
   ],
   "id": "ffdc9d18d9bc85e3"
  },
  {
   "metadata": {},
   "cell_type": "code",
   "outputs": [],
   "execution_count": null,
   "source": [
    "'''\n",
    "Input: Raw text (PDF, news, platform texts, etc.\n",
    "Output: Key sentences, bullet points, insights, structured results\n",
    "Model Choice:\n",
    "    1. OpenAI GPT-3.5/4 -> Prompt-based summarization\n",
    "    2. HuggingFace Transformers (e.g., BART, T5) -> Fine-tuned for summarization tasks\n",
    "    3. Custom-trained models (if domain-specific) -> Open-source models or fine-tuned on specific datasets\n",
    "'''"
   ],
   "id": "fcc00c314165a026"
  },
  {
   "metadata": {},
   "cell_type": "code",
   "outputs": [],
   "execution_count": null,
   "source": [
    "'''\n",
    "Examples prompt for summarization:\n",
    "Example 1:\n",
    "You are an expert financial analyst. Summarize the following text into key insights, bullet points, and structured results. Focus on:\n",
    "1. Key financial metrics\n",
    "2. Market trends\n",
    "3. Company performance\n",
    "4. Risk factors\n",
    "\n",
    "Example 2:\n",
    "Given the following text, extract key sentences and bullet points that highlight the most important information. Focus on:\n",
    "1. Financial performance\n",
    "2. Market trends\n",
    "3. Strategic insights ###\n",
    "'''"
   ],
   "id": "4a0a93d7be1f7883"
  },
  {
   "metadata": {},
   "cell_type": "markdown",
   "source": "# LLM Part II - Strategy Modules",
   "id": "e83c8804f6927ae6"
  },
  {
   "metadata": {},
   "cell_type": "code",
   "outputs": [],
   "execution_count": null,
   "source": [
    "'''\n",
    "Input: Summary + Trend Forecast + Market Data\n",
    "Output: Natural language strategy, (todo: trading signals, risk assessment)\n",
    "Model Choice:\n",
    "    1. OpenAI GPT-3.5/4 -> Prompt-based summary + prediction for strategy generation\n",
    "    2. Mixtral/Command R -> Open-source models for alternative strategy generation\n",
    "    3. Custom fine-tuned models -> On business decision-making datasets (Optional, e.g., financial reports, market analysis)\n",
    "'''"
   ],
   "id": "bb651d75d9800863"
  },
  {
   "metadata": {},
   "cell_type": "code",
   "outputs": [],
   "execution_count": null,
   "source": [
    "'''\n",
    "Examples prompt for strategy generation:\n",
    "Example 1:\n",
    "You are an expert financial strategist. Based on the provided summary and market data, generate a comprehensive strategy for the next quarter. Consider the following factors:\n",
    "1. Market trends\n",
    "2. Economic indicators\n",
    "3. Company performance\n",
    "4. Risk factors\n",
    "Generate a detailed strategy that includes:\n",
    "- Key actions to take\n",
    "- Risk management strategies\n",
    "- Expected outcomes\n",
    "\n",
    "Example 2:\n",
    "Given the business summary and the forecast above, suggest a short-term and long-term strategy to optimize performance. Consider cost management, regional focus, and product timeline.\n",
    "\n",
    "'''"
   ],
   "id": "6f32c49641ffceda"
  },
  {
   "metadata": {},
   "cell_type": "code",
   "outputs": [],
   "execution_count": null,
   "source": "",
   "id": "6cf6038faff565b"
  }
 ],
 "metadata": {
  "kernelspec": {
   "display_name": "Python 3",
   "language": "python",
   "name": "python3"
  },
  "language_info": {
   "codemirror_mode": {
    "name": "ipython",
    "version": 2
   },
   "file_extension": ".py",
   "mimetype": "text/x-python",
   "name": "python",
   "nbconvert_exporter": "python",
   "pygments_lexer": "ipython2",
   "version": "2.7.6"
  }
 },
 "nbformat": 4,
 "nbformat_minor": 5
}
